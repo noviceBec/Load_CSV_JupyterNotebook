{
 "cells": [
  {
   "cell_type": "markdown",
   "metadata": {},
   "source": [
    "**<h1><font color='HotPink'>Loading a CSV file into a MariaDb</font></h1>**"
   ]
  },
   {
   "cell_type": "markdown",
   "metadata": {},
   "source": [
    "### **Load data into an SQL database, list the database and the SQL or batch command used to load it.**"
   ]
  },
  {
   "cell_type": "markdown",
   "metadata": {},
   "source": [
    "### Step i: Create the four tables: <Travel, Report_Master, Expenses, & Category> with their relevant columns in <data_project database> and add Primary & Foreign Key constraints."
   ]
  },
  {
   "cell_type": "code",
   "execution_count": 1,
   "metadata": {},
   "outputs": [],
   "source": [
    "# import pymysql \n",
    "import pymysql \n",
    "\n",
    "#Create connection\n",
    "conn=pymysql.connect(host='localhost', port=int(3306), user='root', passwd='root')"
   ]
  },
  {
   "cell_type": "code",
   "execution_count": 2,
   "metadata": {},
   "outputs": [
    {
     "name": "stdout",
     "output_type": "stream",
     "text": [
      "Database version: 10.7.4-MariaDB\n"
     ]
    }
   ],
   "source": [
    "# Get version of database used.\n",
    "import pymysql\n",
    "conn = pymysql.connect(host='localhost', user='root', passwd='root', )\n",
    "\n",
    "try: \n",
    "    with conn.cursor() as cur:\n",
    "       \n",
    "        cur.execute('SELECT VERSION()')\n",
    "        version = cur.fetchone()\n",
    "     \n",
    "        print(f'Database version: {version[0]}')\n",
    "       \n",
    "finally:\n",
    "    conn.close()"
   ]
  },
  {
   "cell_type": "code",
   "execution_count": null,
   "metadata": {},
   "outputs": [],
   "source": [
    "#Create database for this project: data_project\n",
    "import pymysql\n",
    "conn = pymysql.connect(host='localhost', user='root', passwd='root', )\n",
    "\n",
    "# Create cursor object to excute query\n",
    "cur = conn.cursor()\n",
    "cur.execute(\"CREATE DATABASE data_project\")\n",
    "cur.close()"
   ]
  },
  {
   "cell_type": "code",
   "execution_count": null,
   "metadata": {},
   "outputs": [],
   "source": [
    "# Check if database exists\n",
    "import pymysql\n",
    "conn = pymysql.connect(host='localhost', user='root', passwd='root', )\n",
    "\n",
    "cur = conn.cursor()\n",
    "cur.execute(\"SHOW DATABASES\")\n",
    "\n",
    "for db in cur:\n",
    "    print(db)"
   ]
  },
  {
   "cell_type": "markdown",
   "metadata": {},
   "source": [
    "<font color='green'>**Create a new user and grant access to database:**<br> *User = **Bec** and Project Database name = **data_project*** </font>"
   ]
  },
  {
   "cell_type": "code",
   "execution_count": null,
   "metadata": {},
   "outputs": [],
   "source": [
    "# Create user 'bec1'\n",
    "import pymysql\n",
    "conn = pymysql.connect(host='localhost', user='root', passwd='root', )\n",
    "\n",
    "cur = conn.cursor()\n",
    "cur.execute(\"CREATE USER 'bec'@localhost IDENTIFIED BY 'password123' \")\n",
    "\n",
    "cur.close()"
   ]
  },
  {
   "cell_type": "code",
   "execution_count": null,
   "metadata": {},
   "outputs": [],
   "source": [
    "# Check users in database\n",
    "import pymysql\n",
    "conn = pymysql.connect(host='localhost', user='root', passwd='root', )\n",
    "\n",
    "cur = conn.cursor()\n",
    "cur.execute(\"SELECT USER FROM mysql.user;\")\n",
    "\n",
    "for user in cur:\n",
    "    print(user)\n",
    "\n",
    "cur.close()"
   ]
  },
  {
   "cell_type": "code",
   "execution_count": null,
   "metadata": {},
   "outputs": [],
   "source": [
    "# Grant privileges to user 'bec1' on data_project db\n",
    "import pymysql\n",
    "conn = pymysql.connect(host='localhost', user='root', passwd='root', )\n",
    "\n",
    "cur = conn.cursor()\n",
    "cur.execute(\"GRANT ALL PRIVILEGES ON data_project.* TO 'bec'@localhost\")\n",
    "\n",
    "cur.close()\n"
   ]
  },
  {
   "cell_type": "code",
   "execution_count": null,
   "metadata": {},
   "outputs": [],
   "source": [
    "# Flush Privileges on new user created\n",
    "import pymysql\n",
    "conn = pymysql.connect(host='localhost', user='root', passwd='root', )\n",
    "\n",
    "cur = conn.cursor()\n",
    "cur.execute(\"FLUSH PRIVILEGES;\")\n",
    "\n",
    "cur.close()"
   ]
  },
  {
   "cell_type": "code",
   "execution_count": null,
   "metadata": {},
   "outputs": [],
   "source": [
    "# Verify new user rights permissions\n",
    "import pymysql\n",
    "conn = pymysql.connect(host='localhost', user='root', passwd='root', )\n",
    "\n",
    "cur = conn.cursor()\n",
    "cur.execute(\"SHOW GRANTS FOR 'bec'@localhost;\")\n",
    "\n",
    "for rights in cur:\n",
    "    print(rights)\n",
    "\n",
    "cur.close()"
   ]
  },
  {
   "cell_type": "markdown",
   "metadata": {},
   "source": [
    "<font color='green'>**Create Table1:** *Database table **report_master** and Columns via PyMySQL*</font>"
   ]
  },
  {
   "cell_type": "code",
   "execution_count": null,
   "metadata": {},
   "outputs": [],
   "source": [
    "#Create 'report_master' table and columns\n",
    "import pymysql\n",
    "conn = pymysql.connect(host='localhost', user='bec', passwd='password123', db='data_project')\n",
    "\n",
    "cur = conn.cursor()\n",
    "my_query = ('''\n",
    "        CREATE TABLE report_master(\n",
    "        ReportDataID VARCHAR(255) PRIMARY KEY,\n",
    "        ReportingPeriodStartDate DATE,\n",
    "        ReportingPeriodEndDate DATE)\n",
    "\n",
    "    ''')   \n",
    "cur.execute(my_query)\n",
    "cur.close()"
   ]
  },
  {
   "cell_type": "code",
   "execution_count": null,
   "metadata": {},
   "outputs": [],
   "source": [
    "#Verify table exists\n",
    "import pymysql\n",
    "\n",
    "conn = pymysql.connect(host='localhost', user='bec', passwd='password123', db='data_project')\n",
    "\n",
    "cur = conn.cursor()\n",
    "cur.execute(\"SHOW TABLES\")\n",
    "\n",
    "for table in cur:\n",
    "    print(table)"
   ]
  },
  {
   "cell_type": "code",
   "execution_count": null,
   "metadata": {},
   "outputs": [],
   "source": [
    "# Check columns in table\n",
    "import pymysql\n",
    "conn = pymysql.connect(host='localhost', user='bec', passwd='password123', db='data_project')\n",
    "\n",
    "cur = conn.cursor()\n",
    "\n",
    "cur.execute(\"SHOW COLUMNS FROM report_master\")\n",
    "for column in cur.fetchall():\n",
    "    print(column[0])\n",
    "\n",
    "cur.close()"
   ]
  },
  {
   "cell_type": "code",
   "execution_count": null,
   "metadata": {},
   "outputs": [],
   "source": [
    "# Check some column info in table\n",
    "import pymysql\n",
    "\n",
    "conn = pymysql.connect(host='localhost', user='bec', passwd='password123', db='data_project')\n",
    "cur = conn.cursor()\n",
    "\n",
    "cur.execute(\"SELECT * FROM report_master\")\n",
    "print(cur.description)\n",
    "\n",
    "cur.close()"
   ]
  },
  {
   "cell_type": "markdown",
   "metadata": {},
   "source": [
    "<font color='green'>**Create Table2:** *Database table **travel** and Columns via PyMySQL*</font>"
   ]
  },
  {
   "cell_type": "code",
   "execution_count": null,
   "metadata": {},
   "outputs": [],
   "source": [
    "#Create 'travel' table and columns\n",
    "import pymysql\n",
    "conn = pymysql.connect(host='localhost', user='bec', passwd='password123', db='data_project')\n",
    "\n",
    "cur = conn.cursor()\n",
    "my_query = ('''\n",
    "        CREATE TABLE travel(\n",
    "         Travel_ID INT AUTO_INCREMENT PRIMARY KEY,\n",
    "         ReportDataID VARCHAR(255) ,\n",
    "         StateOrTerritory VARCHAR(255),\n",
    "         Homebase VARCHAR(255),\n",
    "         Party VARCHAR(255),\n",
    "         RoleType VARCHAR(255));\n",
    "    ''')   \n",
    "cur.execute(my_query)\n",
    "cur.close()"
   ]
  },
  {
   "cell_type": "code",
   "execution_count": null,
   "metadata": {},
   "outputs": [],
   "source": [
    "# Check some column info in table\n",
    "import pymysql\n",
    "\n",
    "conn = pymysql.connect(host='localhost', user='bec', passwd='password123', db='data_project')\n",
    "cur = conn.cursor()\n",
    "\n",
    "cur.execute(\"SELECT * FROM travel\")\n",
    "print(cur.description)\n",
    "\n",
    "cur.close()"
   ]
  },
  {
   "cell_type": "code",
   "execution_count": null,
   "metadata": {},
   "outputs": [],
   "source": [
    "# Add foreign keys\n",
    "import pymysql\n",
    "\n",
    "conn = pymysql.connect(host='localhost', user='bec', passwd='password123', db='data_project')\n",
    "cur = conn.cursor()\n",
    "\n",
    "my_query = (''' \n",
    "            ALTER TABLE travel ADD FOREIGN KEY(ReportDataID) REFERENCES report_master(ReportDataID)\n",
    "    ''')\n",
    "\n",
    "cur.execute(my_query)\n",
    "cur.close()\n"
   ]
  },
  {
   "cell_type": "code",
   "execution_count": null,
   "metadata": {},
   "outputs": [],
   "source": [
    "# Check columns in table\n",
    "import pymysql\n",
    "conn = pymysql.connect(host='localhost', user='bec', passwd='password123', db='data_project')\n",
    "\n",
    "cur = conn.cursor()\n",
    "\n",
    "cur.execute(\"SHOW COLUMNS FROM travel\")\n",
    "for column in cur.fetchall():\n",
    "    print(column[0])\n",
    "\n",
    "cur.close()"
   ]
  },
  {
   "cell_type": "markdown",
   "metadata": {},
   "source": [
    "<font color='green'>**Create Table3:** *Database table **Category** and Columns via PyMySQL*</font>"
   ]
  },
  {
   "cell_type": "code",
   "execution_count": null,
   "metadata": {},
   "outputs": [],
   "source": [
    "#Create 'Category' table and columns\n",
    "import pymysql\n",
    "conn = pymysql.connect(host='localhost', user='bec', passwd='password123', db='data_project')\n",
    "\n",
    "cur = conn.cursor()\n",
    "my_query = ('''\n",
    "        CREATE TABLE category(\n",
    "        Catgory_ID INT AUTO_INCREMENT PRIMARY KEY,\n",
    "        HighLevelCategory VARCHAR(255) NOT NULL UNIQUE);\n",
    "    ''')   \n",
    "cur.execute(my_query)\n",
    "\n",
    "# check table and columns created\n",
    "cur.execute(\"SHOW COLUMNS FROM Category\")\n",
    "for column in cur.fetchall():\n",
    "    print(column[0])\n",
    "\n",
    "cur.close()"
   ]
  },
  {
   "cell_type": "code",
   "execution_count": null,
   "metadata": {},
   "outputs": [],
   "source": [
    "import pymysql\n",
    "\n",
    "conn = pymysql.connect(host='localhost', user='bec', passwd='password123', db='data_project')\n",
    "cur = conn.cursor()\n",
    "\n",
    "cur.execute(\"SELECT * FROM category\")\n",
    "print(cur.description)"
   ]
  },
  {
   "cell_type": "markdown",
   "metadata": {},
   "source": [
    "<font color='green'>**Create Table4:** *Database table **Expenses** and Columns via PyMySQL*</font>"
   ]
  },
  {
   "cell_type": "code",
   "execution_count": null,
   "metadata": {},
   "outputs": [],
   "source": [
    "#Create 'Expenses' table and columns\n",
    "import pymysql\n",
    "conn = pymysql.connect(host='localhost', user='bec', passwd='password123', db='data_project')\n",
    "\n",
    "cur = conn.cursor()\n",
    "my_query = ('''\n",
    "        CREATE TABLE Expenses(\n",
    "        Expenses_ID INT AUTO_INCREMENT PRIMARY KEY,\n",
    "        HighLevelCategory VARCHAR(255) NOT NULL UNIQUE,\n",
    "        Description VARCHAR(255),\n",
    "        Amount FLOAT,\n",
    "        MajorSubCategory VARCHAR(255),\n",
    "        MinorSubCategory VARCHAR(255),\n",
    "        ReportDataID VARCHAR(255) NOT NULL UNIQUE);\n",
    "    ''')   \n",
    "cur.execute(my_query)\n",
    "\n",
    "# check table and columns created\n",
    "cur.execute(\"SHOW COLUMNS FROM Expenses\")\n",
    "for column in cur.fetchall():\n",
    "    print(column[0])\n",
    "\n",
    "cur.close()"
   ]
  },
  {
   "cell_type": "code",
   "execution_count": null,
   "metadata": {},
   "outputs": [],
   "source": [
    "import pymysql\n",
    "\n",
    "conn = pymysql.connect(host='localhost', user='bec', passwd='password123', db='data_project')\n",
    "cur = conn.cursor()\n",
    "\n",
    "cur.execute(\"SELECT * FROM expenses\")\n",
    "print(cur.description)"
   ]
  },
  {
   "cell_type": "code",
   "execution_count": null,
   "metadata": {},
   "outputs": [],
   "source": [
    "# Add foreign key in Expenses Table & Category\n",
    "import pymysql\n",
    "\n",
    "conn = pymysql.connect(host='localhost', user='bec', passwd='password123', db='data_project')\n",
    "cur = conn.cursor()\n",
    "\n",
    "my_query = (''' \n",
    "            ALTER TABLE expenses \n",
    "            ADD FOREIGN KEY(HighLevelCategory)\n",
    "            REFERENCES category(HighLevelCategory);\n",
    "    ''')\n",
    "\n",
    "cur.execute(my_query)\n",
    "cur.close()\n"
   ]
  },
  {
   "cell_type": "code",
   "execution_count": null,
   "metadata": {},
   "outputs": [],
   "source": [
    "# Add foreign key in Expenses Table & Report Master\n",
    "import pymysql\n",
    "\n",
    "conn = pymysql.connect(host='localhost', user='bec', passwd='password123', db='data_project')\n",
    "cur = conn.cursor()\n",
    "\n",
    "my_query = (''' \n",
    "            ALTER TABLE expenses \n",
    "            ADD FOREIGN KEY(ReportDataID)\n",
    "            REFERENCES report_master(ReportDataID);\n",
    "    ''')\n",
    "\n",
    "cur.execute(my_query)\n",
    "cur.close()\n"
   ]
  },
  {
   "cell_type": "markdown",
   "metadata": {},
   "source": [
    "### Step ii: Inspect the dataset that's required to populate the tables and columns created in the database."
   ]
  },
  {
   "cell_type": "markdown",
   "metadata": {},
   "source": [
    "<font color='green'>**Inspect CSV data using PANDAS**</font>"
   ]
  },
  {
   "cell_type": "code",
   "execution_count": 4,
   "metadata": {},
   "outputs": [
    {
     "name": "stdout",
     "output_type": "stream",
     "text": [
      "<class 'tuple'>\n"
     ]
    }
   ],
   "source": [
    "# Setup filepath to access CSV files\n",
    "\n",
    "#import pandas\n",
    "import pandas as pd\n",
    "\n",
    "urls = (\"https://data.gov.au/data/dataset/63323fb8-8fb9-4ac5-b5f1-d55838a4a57d/resource/2eb0839c-d79d-41b1-a8f3-1cc26617a65c/download/2021q02_dataextract.csv\", \n",
    "        \"https://data.gov.au/data/dataset/63323fb8-8fb9-4ac5-b5f1-d55838a4a57d/resource/f60ab179-571a-42a9-9849-58161913fa9c/download/2021q02_dataextract_certifications.csv\",\n",
    "        \"https://data.gov.au/data/dataset/63323fb8-8fb9-4ac5-b5f1-d55838a4a57d/resource/7fd9b931-55dc-4a18-9a7b-79229e4d1e50/download/2021q02_dataextract_officecosts.csv\",\n",
    "        \"https://data.gov.au/data/dataset/63323fb8-8fb9-4ac5-b5f1-d55838a4a57d/resource/d0e83112-02ad-45ed-b9a1-a245b184ce70/download/2021q02_dataextract_adjustments.csv \"\n",
    ")\n",
    "print(type(urls)) "
   ]
  },
  {
   "cell_type": "code",
   "execution_count": 5,
   "metadata": {},
   "outputs": [
    {
     "name": "stdout",
     "output_type": "stream",
     "text": [
      "<class 'pandas.core.frame.DataFrame'>\n",
      "<class 'pandas.core.frame.DataFrame'>\n",
      "<class 'pandas.core.frame.DataFrame'>\n",
      "<class 'pandas.core.frame.DataFrame'>\n"
     ]
    }
   ],
   "source": [
    "#import pandas\n",
    "import pandas as pd\n",
    "\n",
    "# Read CSV files into a DataFrame\n",
    "csv1 = pd.read_csv(urls[0], low_memory=False)\n",
    "csv2 = pd.read_csv(urls[1], low_memory=False)\n",
    "csv3 = pd.read_csv(urls[2], low_memory=False)\n",
    "csv4 = pd.read_csv(urls[3], low_memory=False)\n",
    "\n",
    "csv_file = csv1, csv2, csv3, csv4\n",
    "\n",
    "for data_type in csv_file:\n",
    "    print(type(data_type))\n"
   ]
  },
  {
   "cell_type": "code",
   "execution_count": 6,
   "metadata": {},
   "outputs": [
    {
     "name": "stdout",
     "output_type": "stream",
     "text": [
      "(33, 29316)\n",
      "(8, 240)\n",
      "(7, 6)\n",
      "(8, 23)\n"
     ]
    }
   ],
   "source": [
    "#Count number of columns and rows in each CSV file\n",
    "csv1_raw = csv1.shape[1],csv1.shape[0]\n",
    "csv2_raw = csv2.shape[1],csv2.shape[0]\n",
    "csv3_raw = csv3.shape[1],csv3.shape[0]\n",
    "csv4_raw = csv4.shape[1],csv4.shape[0]\n",
    "\n",
    "csv_cols_rows = csv1_raw, csv2_raw, csv3_raw, csv4_raw\n",
    "\n",
    "for cols_rows in csv_cols_rows:\n",
    "   print(cols_rows)\n"
   ]
  },
  {
   "cell_type": "code",
   "execution_count": 7,
   "metadata": {},
   "outputs": [
    {
     "name": "stdout",
     "output_type": "stream",
     "text": [
      "   ReportDataID ReportIdentifier ReportingPeriod ReportingPeriodStartDate ReportingPeriodEndDate StateOrTerritory Homebase           FullNameWithTitle                       Party Surname FirstName         RoleType UserSurname UserFirstName  UserID         HighLevelCategory MajorSubCategory MinorSubCategory FromDate ToDate  NumberNights  NightlyRate                   Description FromLocation ToLocation  Amount  TripSequence  LegNumber Notes ReasonForTravel AnnotationSuperscript AnnotationText  TotalNumOfEmployeesTravelled\n",
      "0       1320502          2021Q02    Apr-Jun 2021               2021-04-01             2021-06-30              TAS   Hobart  Senator the Hon Eric Abetz  Liberal Party of Australia   Abetz      Eric  Parliamentarian       Abetz          Eric     NaN  Domestic Scheduled Fares            Fares              NaN      NaN    NaN           NaN          NaN     Hobart to Sydney 9 Mar 21       Hobart     Sydney  343.64          58.0        1.0   NaN             NaN                   NaN            NaN                           NaN\n",
      "1       1320503          2021Q02    Apr-Jun 2021               2021-04-01             2021-06-30              TAS   Hobart  Senator the Hon Eric Abetz  Liberal Party of Australia   Abetz      Eric  Parliamentarian       Abetz          Eric     NaN  Domestic Scheduled Fares            Fares              NaN      NaN    NaN           NaN          NaN    Sydney to Hobart 10 Mar 21       Sydney     Hobart     NaN          58.0        2.0   NaN             NaN                   NaN            NaN                           NaN\n",
      "2       1320504          2021Q02    Apr-Jun 2021               2021-04-01             2021-06-30              TAS   Hobart  Senator the Hon Eric Abetz  Liberal Party of Australia   Abetz      Eric  Parliamentarian       Abetz          Eric     NaN  Domestic Scheduled Fares            Fares              NaN      NaN    NaN           NaN          NaN  Canberra to Hobart 19 Mar 21     Canberra     Hobart  794.19          56.0        1.0   NaN             NaN                   NaN            NaN                           NaN\n",
      "3       1320506          2021Q02    Apr-Jun 2021               2021-04-01             2021-06-30              TAS   Hobart  Senator the Hon Eric Abetz  Liberal Party of Australia   Abetz      Eric  Parliamentarian       Abetz          Eric     NaN  Domestic Scheduled Fares            Fares              NaN      NaN    NaN           NaN          NaN    Hobart to Sydney 22 Mar 21       Hobart     Sydney  991.20          59.0        1.0   NaN             NaN                   NaN            NaN                           NaN\n",
      "4       1320507          2021Q02    Apr-Jun 2021               2021-04-01             2021-06-30              TAS   Hobart  Senator the Hon Eric Abetz  Liberal Party of Australia   Abetz      Eric  Parliamentarian       Abetz          Eric     NaN  Domestic Scheduled Fares            Fares              NaN      NaN    NaN           NaN          NaN  Sydney to Canberra 22 Mar 21       Sydney   Canberra     NaN          59.0        2.0   NaN             NaN                   NaN            NaN                           NaN\n",
      "      Id ReportIdentifier ReportingPeriod ReportingPeriodStartDate ReportingPeriodEndDate            FullNameWithTitle                   Role     Status\n",
      "0  19001          2021Q02    Apr-Jun 2021               2021-04-01             2021-06-30       The Hon Tony Abbott AC  Former Prime Minister        NaN\n",
      "1  19002          2021Q02    Apr-Jun 2021               2021-04-01             2021-06-30   Senator the Hon Eric Abetz        Parliamentarian  Certified\n",
      "2  19003          2021Q02    Apr-Jun 2021               2021-04-01             2021-06-30  The Hon Anthony Albanese MP        Parliamentarian  Certified\n",
      "3  19004          2021Q02    Apr-Jun 2021               2021-04-01             2021-06-30     Mr John Alexander OAM MP        Parliamentarian  Certified\n",
      "4  19005          2021Q02    Apr-Jun 2021               2021-04-01             2021-06-30            Dr Katie Allen MP        Parliamentarian  Certified\n",
      "      Id ReportIdentifier ReportingPeriod ReportingPeriodStartDate ReportingPeriodEndDate State     Amount\n",
      "0  19002          2021Q02    Apr-Jun 2021               2021-04-01             2021-06-30   NSW  553210.58\n",
      "1  19003          2021Q02    Apr-Jun 2021               2021-04-01             2021-06-30   QLD  383589.98\n",
      "2  19004          2021Q02    Apr-Jun 2021               2021-04-01             2021-06-30    SA  487153.37\n",
      "3  19005          2021Q02    Apr-Jun 2021               2021-04-01             2021-06-30   TAS    9592.20\n",
      "4  19006          2021Q02    Apr-Jun 2021               2021-04-01             2021-06-30   VIC  891179.07\n",
      "      Id ReportIdentifier ReportingPeriod ReportingPeriodStartDate ReportingPeriodEndDate                FullNameWithTitle                 Agency   Amount\n",
      "0  19001          2021Q02    Apr-Jun 2021               2021-04-01             2021-06-30          Mr Russell Broadbent MP  Department of Finance   695.45\n",
      "1  19002          2021Q02    Apr-Jun 2021               2021-04-01             2021-06-30        The Hon Scott Buchholz MP                   IPEA    79.36\n",
      "2  19003          2021Q02    Apr-Jun 2021               2021-04-01             2021-06-30  Senator the Hon Matthew Canavan  Department of Finance   417.90\n",
      "3  19004          2021Q02    Apr-Jun 2021               2021-04-01             2021-06-30                Mr Milton Dick MP  Department of Finance   489.41\n",
      "4  19005          2021Q02    Apr-Jun 2021               2021-04-01             2021-06-30               Dr Helen Haines MP  Department of Finance  1636.36\n"
     ]
    }
   ],
   "source": [
    "#Display the first five rows of all CSV files\n",
    "\n",
    "raw_data_head =  (csv1, csv2, csv3, csv4)\n",
    "\n",
    "for rdh in raw_data_head:\n",
    "    print(rdh.head().to_string())"
   ]
  },
  {
   "cell_type": "code",
   "execution_count": 8,
   "metadata": {},
   "outputs": [
    {
     "name": "stdout",
     "output_type": "stream",
     "text": [
      "       ReportDataID ReportIdentifier ReportingPeriod ReportingPeriodStartDate ReportingPeriodEndDate StateOrTerritory Homebase    FullNameWithTitle Party Surname FirstName                                                       RoleType UserSurname UserFirstName  UserID   HighLevelCategory                             MajorSubCategory MinorSubCategory FromDate ToDate  NumberNights  NightlyRate                   Description FromLocation ToLocation  Amount  TripSequence  LegNumber Notes ReasonForTravel AnnotationSuperscript AnnotationText  TotalNumOfEmployeesTravelled\n",
      "29311       1334963          2021Q02    Apr-Jun 2021               2021-04-01             2021-06-30              NaN      NaN  Mrs Tamie Fraser AO   NaN  Fraser     Tamie  Surviving Spouse or De Facto Partner of Former Prime Minister      Fraser         Tamie     NaN  Telecommunications  Telecommunications - Residential - Official              NaN      NaN    NaN           NaN          NaN   Residential phones 9 Apr 21          NaN        NaN   31.79           NaN        NaN   NaN             NaN                   NaN            NaN                           NaN\n",
      "29312       1334684          2021Q02    Apr-Jun 2021               2021-04-01             2021-06-30              NaN      NaN  Mrs Tamie Fraser AO   NaN  Fraser     Tamie  Surviving Spouse or De Facto Partner of Former Prime Minister      Fraser         Tamie     NaN  Telecommunications  Telecommunications - Residential - Official              NaN      NaN    NaN           NaN          NaN   Residential phones 9 May 21          NaN        NaN   31.79           NaN        NaN   NaN             NaN                   NaN            NaN                           NaN\n",
      "29313       1335854          2021Q02    Apr-Jun 2021               2021-04-01             2021-06-30              NaN      NaN  Mrs Tamie Fraser AO   NaN  Fraser     Tamie  Surviving Spouse or De Facto Partner of Former Prime Minister      Fraser         Tamie     NaN  Telecommunications  Telecommunications - Residential - Official              NaN      NaN    NaN           NaN          NaN  Residential phones 9 Jun 21           NaN        NaN   31.79           NaN        NaN   NaN             NaN                   NaN            NaN                           NaN\n",
      "29314       1340753          2021Q02    Apr-Jun 2021               2021-04-01             2021-06-30              NaN      NaN    Lady Nancy Gorton   NaN  Gorton     Nancy  Surviving Spouse or De Facto Partner of Former Prime Minister      Gorton         Nancy     NaN  Telecommunications  Telecommunications - Residential - Official              NaN      NaN    NaN           NaN          NaN  Residential phones 17 Mar 21          NaN        NaN   40.00           NaN        NaN   NaN             NaN                   NaN            NaN                           NaN\n",
      "29315       1334837          2021Q02    Apr-Jun 2021               2021-04-01             2021-06-30              NaN      NaN    Lady Nancy Gorton   NaN  Gorton     Nancy  Surviving Spouse or De Facto Partner of Former Prime Minister      Gorton         Nancy     NaN  Telecommunications  Telecommunications - Residential - Official              NaN      NaN    NaN           NaN          NaN  Residential phones 11 Jun 21          NaN        NaN   96.71           NaN        NaN   NaN             NaN                   NaN            NaN                           NaN\n",
      "        Id ReportIdentifier ReportingPeriod ReportingPeriodStartDate ReportingPeriodEndDate        FullNameWithTitle             Role     Status\n",
      "235  19236          2021Q02    Apr-Jun 2021               2021-04-01             2021-06-30    The Hon Jason Wood MP  Parliamentarian  Certified\n",
      "236  19237          2021Q02    Apr-Jun 2021               2021-04-01             2021-06-30  The Hon Ken Wyatt AM MP  Parliamentarian  Certified\n",
      "237  19238          2021Q02    Apr-Jun 2021               2021-04-01             2021-06-30        Mr Terry Young MP  Parliamentarian  Certified\n",
      "238  19239          2021Q02    Apr-Jun 2021               2021-04-01             2021-06-30        Mr Tony Zappia MP  Parliamentarian  Certified\n",
      "239  19240          2021Q02    Apr-Jun 2021               2021-04-01             2021-06-30    Mr Trent Zimmerman MP  Parliamentarian  Certified\n",
      "      Id ReportIdentifier ReportingPeriod ReportingPeriodStartDate ReportingPeriodEndDate State     Amount\n",
      "1  19003          2021Q02    Apr-Jun 2021               2021-04-01             2021-06-30   QLD  383589.98\n",
      "2  19004          2021Q02    Apr-Jun 2021               2021-04-01             2021-06-30    SA  487153.37\n",
      "3  19005          2021Q02    Apr-Jun 2021               2021-04-01             2021-06-30   TAS    9592.20\n",
      "4  19006          2021Q02    Apr-Jun 2021               2021-04-01             2021-06-30   VIC  891179.07\n",
      "5  19007          2021Q02    Apr-Jun 2021               2021-04-01             2021-06-30    WA  410117.56\n",
      "       Id ReportIdentifier ReportingPeriod ReportingPeriodStartDate ReportingPeriodEndDate       FullNameWithTitle                 Agency  Amount\n",
      "18  19019          2021Q02    Apr-Jun 2021               2021-04-01             2021-06-30     Mr James Stevens MP                   IPEA  197.08\n",
      "19  19020          2021Q02    Apr-Jun 2021               2021-04-01             2021-06-30    The Hon Dan Tehan MP  Department of Finance  418.13\n",
      "20  19021          2021Q02    Apr-Jun 2021               2021-04-01             2021-06-30    The Hon Dan Tehan MP                   IPEA  814.32\n",
      "21  19022          2021Q02    Apr-Jun 2021               2021-04-01             2021-06-30  Ms Maria Vamvakinou MP                   IPEA  787.14\n",
      "22  19023          2021Q02    Apr-Jun 2021               2021-04-01             2021-06-30    Mr Andrew Wallace MP  Department of Finance   20.99\n"
     ]
    }
   ],
   "source": [
    "#Display the last five rows of all CSV files\n",
    "\n",
    "raw_data_tail = (csv1, csv2, csv3, csv4)\n",
    "\n",
    "for rdt in raw_data_tail:\n",
    "    print(rdt.tail().to_string())"
   ]
  },
  {
   "cell_type": "code",
   "execution_count": 9,
   "metadata": {},
   "outputs": [
    {
     "name": "stdout",
     "output_type": "stream",
     "text": [
      "<class 'pandas.core.frame.DataFrame'>\n",
      "RangeIndex: 29316 entries, 0 to 29315\n",
      "Data columns (total 33 columns):\n",
      " #   Column                        Non-Null Count  Dtype  \n",
      "---  ------                        --------------  -----  \n",
      " 0   ReportDataID                  29316 non-null  int64  \n",
      " 1   ReportIdentifier              29316 non-null  object \n",
      " 2   ReportingPeriod               29316 non-null  object \n",
      " 3   ReportingPeriodStartDate      29316 non-null  object \n",
      " 4   ReportingPeriodEndDate        29316 non-null  object \n",
      " 5   StateOrTerritory              29146 non-null  object \n",
      " 6   Homebase                      29144 non-null  object \n",
      " 7   FullNameWithTitle             29316 non-null  object \n",
      " 8   Party                         29146 non-null  object \n",
      " 9   Surname                       29316 non-null  object \n",
      " 10  FirstName                     29316 non-null  object \n",
      " 11  RoleType                      29316 non-null  object \n",
      " 12  UserSurname                   29316 non-null  object \n",
      " 13  UserFirstName                 29316 non-null  object \n",
      " 14  UserID                        325 non-null    float64\n",
      " 15  HighLevelCategory             29316 non-null  object \n",
      " 16  MajorSubCategory              29082 non-null  object \n",
      " 17  MinorSubCategory              26 non-null     object \n",
      " 18  FromDate                      2133 non-null   object \n",
      " 19  ToDate                        2133 non-null   object \n",
      " 20  NumberNights                  2105 non-null   float64\n",
      " 21  NightlyRate                   2105 non-null   float64\n",
      " 22  Description                   29063 non-null  object \n",
      " 23  FromLocation                  3889 non-null   object \n",
      " 24  ToLocation                    6022 non-null   object \n",
      " 25  Amount                        28857 non-null  float64\n",
      " 26  TripSequence                  4213 non-null   float64\n",
      " 27  LegNumber                     3636 non-null   float64\n",
      " 28  Notes                         4 non-null      object \n",
      " 29  ReasonForTravel               26 non-null     object \n",
      " 30  AnnotationSuperscript         81 non-null     object \n",
      " 31  AnnotationText                81 non-null     object \n",
      " 32  TotalNumOfEmployeesTravelled  227 non-null    float64\n",
      "dtypes: float64(7), int64(1), object(25)\n",
      "memory usage: 7.4+ MB\n",
      "<class 'pandas.core.frame.DataFrame'>\n",
      "RangeIndex: 240 entries, 0 to 239\n",
      "Data columns (total 8 columns):\n",
      " #   Column                    Non-Null Count  Dtype \n",
      "---  ------                    --------------  ----- \n",
      " 0   Id                        240 non-null    int64 \n",
      " 1   ReportIdentifier          240 non-null    object\n",
      " 2   ReportingPeriod           240 non-null    object\n",
      " 3   ReportingPeriodStartDate  240 non-null    object\n",
      " 4   ReportingPeriodEndDate    240 non-null    object\n",
      " 5   FullNameWithTitle         240 non-null    object\n",
      " 6   Role                      240 non-null    object\n",
      " 7   Status                    232 non-null    object\n",
      "dtypes: int64(1), object(7)\n",
      "memory usage: 15.1+ KB\n",
      "<class 'pandas.core.frame.DataFrame'>\n",
      "RangeIndex: 6 entries, 0 to 5\n",
      "Data columns (total 7 columns):\n",
      " #   Column                    Non-Null Count  Dtype  \n",
      "---  ------                    --------------  -----  \n",
      " 0   Id                        6 non-null      int64  \n",
      " 1   ReportIdentifier          6 non-null      object \n",
      " 2   ReportingPeriod           6 non-null      object \n",
      " 3   ReportingPeriodStartDate  6 non-null      object \n",
      " 4   ReportingPeriodEndDate    6 non-null      object \n",
      " 5   State                     6 non-null      object \n",
      " 6   Amount                    6 non-null      float64\n",
      "dtypes: float64(1), int64(1), object(5)\n",
      "memory usage: 464.0+ bytes\n",
      "<class 'pandas.core.frame.DataFrame'>\n",
      "RangeIndex: 23 entries, 0 to 22\n",
      "Data columns (total 8 columns):\n",
      " #   Column                    Non-Null Count  Dtype  \n",
      "---  ------                    --------------  -----  \n",
      " 0   Id                        23 non-null     int64  \n",
      " 1   ReportIdentifier          23 non-null     object \n",
      " 2   ReportingPeriod           23 non-null     object \n",
      " 3   ReportingPeriodStartDate  23 non-null     object \n",
      " 4   ReportingPeriodEndDate    23 non-null     object \n",
      " 5   FullNameWithTitle         23 non-null     object \n",
      " 6   Agency                    23 non-null     object \n",
      " 7   Amount                    23 non-null     float64\n",
      "dtypes: float64(1), int64(1), object(6)\n",
      "memory usage: 1.6+ KB\n"
     ]
    }
   ],
   "source": [
    "#Inspect the DataFrames\n",
    "raw_data_info =  (csv1, csv2, csv3, csv4)\n",
    "\n",
    "for rdi in raw_data_info:\n",
    "    rdi.info()"
   ]
  },
  {
   "cell_type": "code",
   "execution_count": 10,
   "metadata": {},
   "outputs": [
    {
     "name": "stdout",
     "output_type": "stream",
     "text": [
      "       ReportDataID      UserID  NumberNights  NightlyRate         Amount  \\\n",
      "count  2.931600e+04  325.000000   2105.000000  2105.000000   28857.000000   \n",
      "mean   1.342644e+06    1.424615      3.026128   323.211876    1192.251097   \n",
      "std    2.039760e+04    0.845108      2.577281    69.238887    6884.532390   \n",
      "min    1.305067e+06    1.000000     -1.000000    92.000000  -41711.320000   \n",
      "25%    1.329310e+06    1.000000      1.000000   291.000000      51.220000   \n",
      "50%    1.341098e+06    1.000000      2.000000   291.000000     154.540000   \n",
      "75%    1.356826e+06    2.000000      4.000000   383.000000     560.420000   \n",
      "max    1.378703e+06    5.000000     33.000000   577.000000  452372.660000   \n",
      "\n",
      "       TripSequence    LegNumber  TotalNumOfEmployeesTravelled  \n",
      "count   4213.000000  3636.000000                    227.000000  \n",
      "mean    1861.526466     1.095710                      5.766520  \n",
      "std     1076.292409     0.407189                      5.696073  \n",
      "min        1.000000     0.000000                      1.000000  \n",
      "25%      920.000000     1.000000                      3.000000  \n",
      "50%     1874.000000     1.000000                      4.000000  \n",
      "75%     2796.000000     1.000000                      6.000000  \n",
      "max     3702.000000     6.000000                     54.000000  \n",
      "                Id\n",
      "count    240.00000\n",
      "mean   19120.50000\n",
      "std       69.42622\n",
      "min    19001.00000\n",
      "25%    19060.75000\n",
      "50%    19120.50000\n",
      "75%    19180.25000\n",
      "max    19240.00000\n",
      "                 Id         Amount\n",
      "count      6.000000       6.000000\n",
      "mean   19004.500000  455807.126667\n",
      "std        1.870829  285106.773785\n",
      "min    19002.000000    9592.200000\n",
      "25%    19003.250000  390221.875000\n",
      "50%    19004.500000  448635.465000\n",
      "75%    19005.750000  536696.277500\n",
      "max    19007.000000  891179.070000\n",
      "                Id       Amount\n",
      "count     23.00000    23.000000\n",
      "mean   19012.00000   844.553478\n",
      "std        6.78233  1312.390877\n",
      "min    19001.00000    20.990000\n",
      "25%    19006.50000   108.045000\n",
      "50%    19012.00000   418.130000\n",
      "75%    19017.50000   800.730000\n",
      "max    19023.00000  5860.000000\n"
     ]
    }
   ],
   "source": [
    "#Display stats on dataframes\n",
    "\n",
    "raw_data_stats =  (csv1, csv2, csv3, csv4)\n",
    "\n",
    "for rds in raw_data_stats:\n",
    "    print(rds.describe())"
   ]
  }
 ],
 "metadata": {
  "kernelspec": {
   "display_name": "Python 3.10.5 ('venv1')",
   "language": "python",
   "name": "python3"
  },
  "language_info": {
   "codemirror_mode": {
    "name": "ipython",
    "version": 3
   },
   "file_extension": ".py",
   "mimetype": "text/x-python",
   "name": "python",
   "nbconvert_exporter": "python",
   "pygments_lexer": "ipython3",
   "version": "3.10.5"
  },
  "orig_nbformat": 4,
  "vscode": {
   "interpreter": {
    "hash": "1a545c76b4902d2f32b033efa3b6b1001e546509c56aa8e48275f82e4716c34b"
   }
  }
 },
 "nbformat": 4,
 "nbformat_minor": 2
}
